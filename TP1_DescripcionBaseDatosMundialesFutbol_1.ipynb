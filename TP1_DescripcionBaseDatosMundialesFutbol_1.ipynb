{
  "nbformat": 4,
  "nbformat_minor": 0,
  "metadata": {
    "colab": {
      "provenance": [],
      "authorship_tag": "ABX9TyN3vB0tFhuXP7WWNSS7FWao",
      "include_colab_link": true
    },
    "kernelspec": {
      "name": "python3",
      "display_name": "Python 3"
    },
    "language_info": {
      "name": "python"
    }
  },
  "cells": [
    {
      "cell_type": "markdown",
      "metadata": {
        "id": "view-in-github",
        "colab_type": "text"
      },
      "source": [
        "<a href=\"https://colab.research.google.com/github/rafaels100/TP1_Pandas_LaboDatos_UBA/blob/main/TP1_DescripcionBaseDatosMundialesFutbol_1.ipynb\" target=\"_parent\"><img src=\"https://colab.research.google.com/assets/colab-badge.svg\" alt=\"Open In Colab\"/></a>"
      ]
    },
    {
      "cell_type": "code",
      "execution_count": null,
      "metadata": {
        "colab": {
          "base_uri": "https://localhost:8080/"
        },
        "id": "QocdQwtV2moD",
        "outputId": "a84b49f6-e9d4-477a-e760-2bc6f53d69eb"
      },
      "outputs": [
        {
          "output_type": "stream",
          "name": "stdout",
          "text": [
            "Mounted at /content/drive\n"
          ]
        }
      ],
      "source": [
        "from google.colab import drive\n",
        "import numpy as np\n",
        "import pandas as pd\n",
        "from datetime import datetime\n",
        "import matplotlib.pyplot as plt\n",
        "import os\n",
        "\n",
        "drive.mount(\"/content/drive\")\n",
        "\n",
        "filename = '/content/drive/My Drive/PrimeraEjercitacion/WorldCupMatches.csv'\n",
        "\n",
        "df = pd.read_csv(filename)"
      ]
    },
    {
      "cell_type": "markdown",
      "source": [
        "EJ 1 : Construir un ranking de los mundiales por cantidad de goles anotados en promedio por partido (por ejemplo, en una lista)."
      ],
      "metadata": {
        "id": "uIiSQlk-3G7B"
      }
    },
    {
      "cell_type": "markdown",
      "source": [
        "Creo un objeto series que contenga a todos los años, y luego aplico value_counts para obtener todos los años que hay y sus apariciones. Me quedo con todos los años que hay."
      ],
      "metadata": {
        "id": "rf6lsyAY3Oe-"
      }
    },
    {
      "cell_type": "code",
      "source": [
        "años_mundiales = df[\"Year\"].value_counts().index"
      ],
      "metadata": {
        "id": "_72U-yfc3Sl8"
      },
      "execution_count": null,
      "outputs": []
    },
    {
      "cell_type": "markdown",
      "source": [
        "Calculo el promedio de goles por año, iterando por todos los años en los que ocurrio el mundial, y quedandome con las columnas 6 y 8 correspondientes a los goles locales y visitantes. Sumo las columnas y calculo el promedio de goles totales para cada año."
      ],
      "metadata": {
        "id": "0kFlot4t3U79"
      }
    },
    {
      "cell_type": "code",
      "source": [
        "promedios_goles = [df[df[\"Year\"] == año].iloc[0:, 6:8].sum(axis=1).mean() for año in años_mundiales]"
      ],
      "metadata": {
        "id": "4hwor72u3btS"
      },
      "execution_count": null,
      "outputs": []
    },
    {
      "cell_type": "markdown",
      "source": [
        "Uno los promedios con los respectivos años en tuplas"
      ],
      "metadata": {
        "id": "BOFvHYep3eRF"
      }
    },
    {
      "cell_type": "code",
      "source": [
        "mundiales_prom = zip(promedios_goles, años_mundiales)"
      ],
      "metadata": {
        "id": "wcuPEL7-3heD"
      },
      "execution_count": null,
      "outputs": []
    },
    {
      "cell_type": "markdown",
      "source": [
        "Ordeno la lista de tuplas de mayor a menor para obtener el ranking de promedios de goles por año"
      ],
      "metadata": {
        "id": "yP2FsA4f3kiq"
      }
    },
    {
      "cell_type": "code",
      "source": [
        "ranking_prom = sorted(mundiales_prom, reverse=True)\n",
        "print(\"RTA Ej 1\")\n",
        "print(ranking_prom)"
      ],
      "metadata": {
        "colab": {
          "base_uri": "https://localhost:8080/"
        },
        "id": "ETISHKG13oBG",
        "outputId": "5414f837-ee48-40d9-c437-c1581df7df61"
      },
      "execution_count": null,
      "outputs": [
        {
          "output_type": "stream",
          "name": "stdout",
          "text": [
            "RTA Ej 1\n",
            "[(5.384615384615385, 1954.0), (4.666666666666667, 1938.0), (4.117647058823529, 1934.0), (4.0, 1950.0), (3.888888888888889, 1930.0), (3.6, 1958.0), (2.96875, 1970.0), (2.8076923076923075, 1982.0), (2.78125, 1966.0), (2.78125, 1962.0), (2.7115384615384617, 1994.0), (2.6842105263157894, 1978.0), (2.671875, 1998.0), (2.575, 2014.0), (2.5526315789473686, 1974.0), (2.5384615384615383, 1986.0), (2.515625, 2002.0), (2.296875, 2006.0), (2.265625, 2010.0), (2.2115384615384617, 1990.0)]\n"
          ]
        }
      ]
    },
    {
      "cell_type": "markdown",
      "source": [
        "EJ 1.2 : Hacer un gráfico de barras donde en el eje Y figura la cantidad promedio de goles y en el X aparecen los mundiales, ordenados de izquierda a derecha en cantidad decreciente de goles."
      ],
      "metadata": {
        "id": "mkWlqHIp3zcc"
      }
    },
    {
      "cell_type": "code",
      "source": [
        "plt.bar(años_mundiales, promedios_goles, width=2)\n",
        "plt.show()"
      ],
      "metadata": {
        "colab": {
          "base_uri": "https://localhost:8080/",
          "height": 265
        },
        "id": "BSwLMw1t34fN",
        "outputId": "60eb3863-8b9c-4696-9e34-e9a5dffe8ad6"
      },
      "execution_count": null,
      "outputs": [
        {
          "output_type": "display_data",
          "data": {
            "text/plain": [
              "<Figure size 432x288 with 1 Axes>"
            ],
            "image/png": "[encoded data removed]"
          },
          "metadata": {
            "needs_background": "light"
          }
        }
      ]
    },
    {
      "cell_type": "markdown",
      "source": [
        "EJ 2 : Construir un ranking de los paises que mas partidos ganaron por penales.\n",
        "Representarlo en un grafico igual que en la consigna anterior."
      ],
      "metadata": {
        "id": "HpwEWQwC36_C"
      }
    },
    {
      "cell_type": "markdown",
      "source": [
        "ganador : busca por la palabra \"win\" y corta desde el principio de la string hasta donde la encuentra, -1. De esa forma me quedo con el pais ganador del partido."
      ],
      "metadata": {
        "id": "M9dbnBUE4Fj0"
      }
    },
    {
      "cell_type": "code",
      "source": [
        "def ganador(x):\n",
        "    if type(x) == str:\n",
        "        x = x[0 : x.find(\"win\")-1]\n",
        "        return x\n",
        "    else:\n",
        "        return x"
      ],
      "metadata": {
        "id": "vRNN8HZJ4O3j"
      },
      "execution_count": null,
      "outputs": []
    },
    {
      "cell_type": "markdown",
      "source": [
        "Creo una Series de penales, que contendra a todos los partidos que se decidieron por penales"
      ],
      "metadata": {
        "id": "xLnm6o_V4Sej"
      }
    },
    {
      "cell_type": "code",
      "source": [
        "por_penales = df[df[\"Win conditions\"].str.contains(\"penal\")==True].loc[:, \"Win conditions\"]"
      ],
      "metadata": {
        "id": "d6a698SU4W3B"
      },
      "execution_count": null,
      "outputs": []
    },
    {
      "cell_type": "markdown",
      "source": [
        "Me quedo solo con el nombre de los paises ganadores, utilizando la funcion ganador"
      ],
      "metadata": {
        "id": "dgSERUqM4ZC_"
      }
    },
    {
      "cell_type": "code",
      "source": [
        "por_pen_win = por_penales.apply(lambda x : ganador(x))\n",
        "print(por_pen_win)"
      ],
      "metadata": {
        "colab": {
          "base_uri": "https://localhost:8080/"
        },
        "id": "G6K8UEuS4bjy",
        "outputId": "c5cbc19a-a480-486a-a2b1-a5a59bb178f7"
      },
      "execution_count": null,
      "outputs": [
        {
          "output_type": "stream",
          "name": "stdout",
          "text": [
            "357                       \n",
            "404                 France\n",
            "405             Germany FR\n",
            "406                Belgium\n",
            "452    Republic of Ireland\n",
            "456                       \n",
            "460                       \n",
            "461                       \n",
            "507               Bulgaria\n",
            "511                 Sweden\n",
            "515                 Brazil\n",
            "571              Argentina\n",
            "572                 France\n",
            "576                 Brazil\n",
            "630                  Spain\n",
            "639         Korea Republic\n",
            "697                Ukraine\n",
            "700                Germany\n",
            "702               Portugal\n",
            "707                  Italy\n",
            "762               Paraguay\n",
            "765                Uruguay\n",
            "820                 Brazil\n",
            "829              Argentina\n",
            "830            Netherlands\n",
            "833             Costa Rica\n",
            "836                 Brazil\n",
            "839             Costa Rica\n",
            "847            Netherlands\n",
            "849              Argentina\n",
            "Name: Win conditions, dtype: object\n"
          ]
        }
      ]
    },
    {
      "cell_type": "markdown",
      "source": [
        "Vemos que hay valores que quedaron en blanco, porque alguien se olvido de\n",
        "completar quien fue el equipo ganador por penales de dicho partido.\n",
        "Dropeamos dichas filas.\n",
        "Para ello recurro al hecho de que una string vacia \"\" en bool es considerada\n",
        "False. Entonces, hago strip en todas las string que modifique previamente.\n",
        "Si una de ellas quedo vacia o con blanks \" \", se va a poner vacia ahora \"\".\n",
        "Procedo a eliminarlas por tipo. Si es False, no sobrevive:"
      ],
      "metadata": {
        "id": "pSFQAAjR4lW4"
      }
    },
    {
      "cell_type": "code",
      "source": [
        "por_pen_win_clean = por_pen_win[por_pen_win.str.strip().astype(bool)]\n",
        "print(por_pen_win_clean)"
      ],
      "metadata": {
        "id": "vcww0iuK4tel",
        "colab": {
          "base_uri": "https://localhost:8080/"
        },
        "outputId": "4e68c09c-cae0-4ceb-bd5e-127dac12b8b9"
      },
      "execution_count": null,
      "outputs": [
        {
          "output_type": "stream",
          "name": "stdout",
          "text": [
            "404                 France\n",
            "405             Germany FR\n",
            "406                Belgium\n",
            "452    Republic of Ireland\n",
            "507               Bulgaria\n",
            "511                 Sweden\n",
            "515                 Brazil\n",
            "571              Argentina\n",
            "572                 France\n",
            "576                 Brazil\n",
            "630                  Spain\n",
            "639         Korea Republic\n",
            "697                Ukraine\n",
            "700                Germany\n",
            "702               Portugal\n",
            "707                  Italy\n",
            "762               Paraguay\n",
            "765                Uruguay\n",
            "820                 Brazil\n",
            "829              Argentina\n",
            "830            Netherlands\n",
            "833             Costa Rica\n",
            "836                 Brazil\n",
            "839             Costa Rica\n",
            "847            Netherlands\n",
            "849              Argentina\n",
            "Name: Win conditions, dtype: object\n"
          ]
        }
      ]
    },
    {
      "cell_type": "markdown",
      "source": [
        "El ranking de paises que mas ganaron por penales queda capturado en este series"
      ],
      "metadata": {
        "id": "3jZcxk--4waS"
      }
    },
    {
      "cell_type": "code",
      "source": [
        "ranking_pen_win = por_pen_win_clean.value_counts()\n",
        "print(\"RTA Ej 2\")\n",
        "print(ranking_pen_win)"
      ],
      "metadata": {
        "colab": {
          "base_uri": "https://localhost:8080/"
        },
        "id": "lsKYB6ao4zO7",
        "outputId": "87e5d9c6-28e9-4858-d9fe-e53b46666fae"
      },
      "execution_count": null,
      "outputs": [
        {
          "output_type": "stream",
          "name": "stdout",
          "text": [
            "RTA Ej 2\n",
            "Brazil                 4\n",
            "Argentina              3\n",
            "France                 2\n",
            "Netherlands            2\n",
            "Costa Rica             2\n",
            "Sweden                 1\n",
            "Bulgaria               1\n",
            "Republic of Ireland    1\n",
            "Spain                  1\n",
            "Germany FR             1\n",
            "Ukraine                1\n",
            "Germany                1\n",
            "Portugal               1\n",
            "Italy                  1\n",
            "Paraguay               1\n",
            "Uruguay                1\n",
            "Belgium                1\n",
            "Korea Republic         1\n",
            "Name: Win conditions, dtype: int64\n"
          ]
        }
      ]
    },
    {
      "cell_type": "markdown",
      "source": [
        "Separo a los paises y los goles anotados para poder graficar"
      ],
      "metadata": {
        "id": "13UOJdFk426R"
      }
    },
    {
      "cell_type": "code",
      "source": [
        "paises_pen = ranking_pen_win.index\n",
        "penales_cant = ranking_pen_win.values"
      ],
      "metadata": {
        "id": "qKc_t5IA45MS"
      },
      "execution_count": null,
      "outputs": []
    },
    {
      "cell_type": "markdown",
      "source": [
        "Ploteo"
      ],
      "metadata": {
        "id": "5-iNdMpR47iw"
      }
    },
    {
      "cell_type": "code",
      "source": [
        "plt.xticks(rotation=80)\n",
        "plt.subplots_adjust(bottom=.3)\n",
        "plt.bar(paises_pen, penales_cant, width = .6)\n",
        "plt.show()"
      ],
      "metadata": {
        "colab": {
          "base_uri": "https://localhost:8080/",
          "height": 298
        },
        "id": "Ap0UQ4Z348of",
        "outputId": "668ff6a6-4b8c-4a41-83d1-0ad5a7c401cd"
      },
      "execution_count": null,
      "outputs": [
        {
          "output_type": "display_data",
          "data": {
            "text/plain": [
              "<Figure size 432x288 with 1 Axes>"
            ],
            "image/png": "[encoded data removed]"
          },
          "metadata": {
            "needs_background": "light"
          }
        }
      ]
    },
    {
      "cell_type": "markdown",
      "source": [
        "EJ 3 : Quien fue el arquero que mas partidos gano por penales ?"
      ],
      "metadata": {
        "id": "oTRWP1QE5Bu5"
      }
    },
    {
      "cell_type": "code",
      "source": [
        "filename = '/content/drive/My Drive/PrimeraEjercitacion/WorldCupPlayers.csv'\n",
        "df1 = pd.read_csv(filename)"
      ],
      "metadata": {
        "id": "uZHwrRfw5EoQ"
      },
      "execution_count": null,
      "outputs": []
    },
    {
      "cell_type": "markdown",
      "source": [
        "APPROACH:\n",
        "1: Creo el df de partidos ganados por penales, con sus respectivos ganadores\n",
        "(ej 2), pero con el matchID incluido.\n",
        "2: Mergeo la lista de jugadores con la lista del paso 1, por MatchID.\n",
        "De esa manera obtengo un df con todos los jugadores que participaron en\n",
        "esos partidos que se decidieron por penales.\n",
        "3: Filtro por los jugadores que sean GK, asi me quedo solo con los arqueros\n",
        "que estuvieron presentes en esos partidos que se decidieron por penales.\n",
        "4: Me quedo con los jugadores que su nacionalidad \"Team Initials\" este incluida\n",
        "en la columna del equipo ganador. Asi sabre que ese arquero no solo\n",
        "participo en ese partido, sino que tambien gano el partido.\n",
        "5: Hago una value count para ver en cuantos partidos que ganaron por penales\n",
        "estuvo presente cada arquero."
      ],
      "metadata": {
        "id": "TZnqy_X25G2s"
      }
    },
    {
      "cell_type": "markdown",
      "source": [
        "1: Creo una dataframe de penales, que contendra a todos los partidos que se decidieron por penales y su MatchID"
      ],
      "metadata": {
        "id": "S75VVqGA5Otl"
      }
    },
    {
      "cell_type": "code",
      "source": [
        "df_penales = df[df[\"Win conditions\"].str.contains(\"penal\")==True].loc[:, [\"Win conditions\", \"MatchID\"]]"
      ],
      "metadata": {
        "id": "tq70bwAs5TA3"
      },
      "execution_count": null,
      "outputs": []
    },
    {
      "cell_type": "markdown",
      "source": [
        "Me quedo solo con el nombre de los paises ganadores, utilizando la funcion ganador. Como esta vez no se trata de una Series, sino de un DataFrame, puedo usar el metodo applymap:"
      ],
      "metadata": {
        "id": "kLq6ftsU5Y5k"
      }
    },
    {
      "cell_type": "code",
      "source": [
        "df_pen_win = df_penales.applymap(ganador)\n",
        "print(df_pen_win)"
      ],
      "metadata": {
        "colab": {
          "base_uri": "https://localhost:8080/"
        },
        "id": "lVi0VxxO5csX",
        "outputId": "01f72454-4b33-4c3b-e22c-26fe0e3fcb71"
      },
      "execution_count": null,
      "outputs": [
        {
          "output_type": "stream",
          "name": "stdout",
          "text": [
            "          Win conditions      MatchID\n",
            "357                             914.0\n",
            "404               France        440.0\n",
            "405           Germany FR        575.0\n",
            "406              Belgium        421.0\n",
            "452  Republic of Ireland        248.0\n",
            "456                              31.0\n",
            "460                              28.0\n",
            "461                             159.0\n",
            "507             Bulgaria       3092.0\n",
            "511               Sweden       3095.0\n",
            "515               Brazil       3104.0\n",
            "571            Argentina       8779.0\n",
            "572               France       8781.0\n",
            "576               Brazil       8785.0\n",
            "630                Spain   43950052.0\n",
            "639       Korea Republic   43950059.0\n",
            "697              Ukraine   97410054.0\n",
            "700              Germany   97410057.0\n",
            "702             Portugal   97410059.0\n",
            "707                Italy   97410064.0\n",
            "762             Paraguay  300061497.0\n",
            "765              Uruguay  300061508.0\n",
            "820               Brazil  300186487.0\n",
            "829            Argentina  300186490.0\n",
            "830          Netherlands  300186488.0\n",
            "833           Costa Rica  300186459.0\n",
            "836               Brazil  300186487.0\n",
            "839           Costa Rica  300186459.0\n",
            "847          Netherlands  300186488.0\n",
            "849            Argentina  300186490.0\n"
          ]
        }
      ]
    },
    {
      "cell_type": "markdown",
      "source": [
        "Limpio los espacios vacios"
      ],
      "metadata": {
        "id": "trWTVZFZ5wo8"
      }
    },
    {
      "cell_type": "code",
      "source": [
        "df_pen_win_clean = df_pen_win[df_pen_win[\"Win conditions\"].str.strip().astype(bool)]\n",
        "print(df_pen_win_clean)"
      ],
      "metadata": {
        "colab": {
          "base_uri": "https://localhost:8080/"
        },
        "id": "wmBgmjEY5zDd",
        "outputId": "3c744cbb-6583-418a-84d5-08c72d06ccf3"
      },
      "execution_count": null,
      "outputs": [
        {
          "output_type": "stream",
          "name": "stdout",
          "text": [
            "          Win conditions      MatchID\n",
            "404               France        440.0\n",
            "405           Germany FR        575.0\n",
            "406              Belgium        421.0\n",
            "452  Republic of Ireland        248.0\n",
            "507             Bulgaria       3092.0\n",
            "511               Sweden       3095.0\n",
            "515               Brazil       3104.0\n",
            "571            Argentina       8779.0\n",
            "572               France       8781.0\n",
            "576               Brazil       8785.0\n",
            "630                Spain   43950052.0\n",
            "639       Korea Republic   43950059.0\n",
            "697              Ukraine   97410054.0\n",
            "700              Germany   97410057.0\n",
            "702             Portugal   97410059.0\n",
            "707                Italy   97410064.0\n",
            "762             Paraguay  300061497.0\n",
            "765              Uruguay  300061508.0\n",
            "820               Brazil  300186487.0\n",
            "829            Argentina  300186490.0\n",
            "830          Netherlands  300186488.0\n",
            "833           Costa Rica  300186459.0\n",
            "836               Brazil  300186487.0\n",
            "839           Costa Rica  300186459.0\n",
            "847          Netherlands  300186488.0\n",
            "849            Argentina  300186490.0\n"
          ]
        }
      ]
    },
    {
      "cell_type": "markdown",
      "source": [
        "2: Mergeo por MatchID el dataframe de partidos ganados por penales con el de jugadores con las columnas que me interesan del nuevo dataframe."
      ],
      "metadata": {
        "id": "oEtEM4m954PI"
      }
    },
    {
      "cell_type": "code",
      "source": [
        "cols = [\"MatchID\", \"Player Name\", \"Position\", \"Team Initials\"]\n",
        "df_pen_jug = pd.merge(df_pen_win_clean, df1.loc[:, cols], how=\"inner\", on=\"MatchID\")"
      ],
      "metadata": {
        "id": "_bX2x_lS58MD"
      },
      "execution_count": null,
      "outputs": []
    },
    {
      "cell_type": "markdown",
      "source": [
        "3: Filtro por los jugadores que sean goalkeeepers, asi me quedo solo con los arqueros que estuvieron presentes en esos partidos que se decidieron por penales"
      ],
      "metadata": {
        "id": "oTFpg8sa5-fU"
      }
    },
    {
      "cell_type": "code",
      "source": [
        "df_pen_gk = df_pen_jug[df_pen_jug[\"Position\"] == \"GK\"]\n",
        "print(df_pen_gk)"
      ],
      "metadata": {
        "colab": {
          "base_uri": "https://localhost:8080/"
        },
        "id": "NsK-TaJ36DCV",
        "outputId": "e55df5b7-92a2-4767-89ee-1c80893cf472"
      },
      "execution_count": null,
      "outputs": [
        {
          "output_type": "stream",
          "name": "stdout",
          "text": [
            "     Win conditions      MatchID         Player Name Position Team Initials\n",
            "0            France        440.0              CARLOS       GK           BRA\n",
            "1            France        440.0           Joel BATS       GK           FRA\n",
            "44       Germany FR        575.0   Harald SCHUMACHER       GK           FRG\n",
            "45       Germany FR        575.0        Pablo LARIOS       GK           MEX\n",
            "88          Belgium        421.0  Andoni ZUBIZARRETA       GK           ESP\n",
            "...             ...          ...                 ...      ...           ...\n",
            "1499     Costa Rica  300186459.0            KARNEZIS       GK           GRE\n",
            "1520     Costa Rica  300186459.0        PEMBERTON P.       GK           CRC\n",
            "1521     Costa Rica  300186459.0              GLYKOS       GK           GRE\n",
            "1522     Costa Rica  300186459.0       CAMBRONERO D.       GK           CRC\n",
            "1523     Costa Rica  300186459.0              KAPINO       GK           GRE\n",
            "\n",
            "[137 rows x 5 columns]\n"
          ]
        }
      ]
    },
    {
      "cell_type": "markdown",
      "source": [
        "4: Me quedo con los jugadores que su nacionalidad \"Team Initials\" este incluida en la columna del equipo ganador. Asi sabre que ese arquero no solo participo en ese partido, sino que tambien gano el partido."
      ],
      "metadata": {
        "id": "RhnmKD7Z6MP5"
      }
    },
    {
      "cell_type": "code",
      "source": [
        "df_pen_gk_win2 = df_pen_gk[df_pen_gk.apply(lambda x : x[\"Team Initials\"].lower() in x[\"Win conditions\"].lower(), axis=1)]\n",
        "print(df_pen_gk_win2)"
      ],
      "metadata": {
        "colab": {
          "base_uri": "https://localhost:8080/"
        },
        "id": "nyr28wgO6RGG",
        "outputId": "a734d1ad-df37-4895-8785-59ed23b29396"
      },
      "execution_count": null,
      "outputs": [
        {
          "output_type": "stream",
          "name": "stdout",
          "text": [
            "      Win conditions      MatchID       Player Name Position Team Initials\n",
            "1             France        440.0         Joel BATS       GK           FRA\n",
            "89           Belgium        421.0  Jean Marie PFAFF       GK           BEL\n",
            "221           Sweden       3095.0    Thomas RAVELLI       GK           SWE\n",
            "264           Brazil       3104.0          TAFFAREL       GK           BRA\n",
            "308        Argentina       8779.0        Carlos ROA       GK           ARG\n",
            "353           France       8781.0    Fabien BARTHEZ       GK           FRA\n",
            "396           Brazil       8785.0          TAFFAREL       GK           BRA\n",
            "487   Korea Republic   43950059.0           W J LEE       GK           KOR\n",
            "533          Ukraine   97410054.0       SHOVKOVSKYI       GK           UKR\n",
            "555          Ukraine   97410054.0            PYATOV       GK           UKR\n",
            "557          Ukraine   97410054.0             SHUST       GK           UKR\n",
            "578          Germany   97410057.0           LEHMANN       GK           GER\n",
            "625         Portugal   97410059.0           RICARDO       GK           POR\n",
            "670            Italy   97410064.0            BUFFON       GK           ITA\n",
            "738         Paraguay  300061497.0        D. BARRETO       GK           PAR\n",
            "740         Paraguay  300061497.0         BOBADILLA       GK           PAR\n",
            "762          Uruguay  300061508.0           MUSLERA       GK           URU\n",
            "784          Uruguay  300061508.0          CASTILLO       GK           URU\n",
            "786          Uruguay  300061508.0             SILVA       GK           URU\n",
            "808           Brazil  300186487.0       JULIO CESAR       GK           BRA\n",
            "830           Brazil  300186487.0         JEFFERSON       GK           BRA\n",
            "832           Brazil  300186487.0            VICTOR       GK           BRA\n",
            "854           Brazil  300186487.0       JULIO CESAR       GK           BRA\n",
            "876           Brazil  300186487.0         JEFFERSON       GK           BRA\n",
            "878           Brazil  300186487.0            VICTOR       GK           BRA\n",
            "900           Brazil  300186487.0       JULIO CESAR       GK           BRA\n",
            "922           Brazil  300186487.0         JEFFERSON       GK           BRA\n",
            "924           Brazil  300186487.0            VICTOR       GK           BRA\n",
            "946           Brazil  300186487.0       JULIO CESAR       GK           BRA\n",
            "968           Brazil  300186487.0         JEFFERSON       GK           BRA\n",
            "970           Brazil  300186487.0            VICTOR       GK           BRA\n",
            "993        Argentina  300186490.0            ROMERO       GK           ARG\n",
            "1015       Argentina  300186490.0             ORION       GK           ARG\n",
            "1017       Argentina  300186490.0           ANDUJAR       GK           ARG\n",
            "1039       Argentina  300186490.0            ROMERO       GK           ARG\n",
            "1061       Argentina  300186490.0             ORION       GK           ARG\n",
            "1063       Argentina  300186490.0           ANDUJAR       GK           ARG\n",
            "1085       Argentina  300186490.0            ROMERO       GK           ARG\n",
            "1107       Argentina  300186490.0             ORION       GK           ARG\n",
            "1109       Argentina  300186490.0           ANDUJAR       GK           ARG\n",
            "1131       Argentina  300186490.0            ROMERO       GK           ARG\n",
            "1153       Argentina  300186490.0             ORION       GK           ARG\n",
            "1155       Argentina  300186490.0           ANDUJAR       GK           ARG\n"
          ]
        }
      ]
    },
    {
      "cell_type": "markdown",
      "source": [
        "5: Hago una value count para ver en cuantos partidos que ganaron por penales estuvo presente cada arquero. El ranking de arqueros que mas partidos ganaron por penales queda capturado en el siguiente series:"
      ],
      "metadata": {
        "id": "Tm8QV6Jq6Wt4"
      }
    },
    {
      "cell_type": "code",
      "source": [
        "ranking_gk_pen = df_pen_gk_win2[\"Player Name\"].value_counts()\n",
        "print(ranking_gk_pen)"
      ],
      "metadata": {
        "colab": {
          "base_uri": "https://localhost:8080/"
        },
        "id": "lsIpqfjQ6c-K",
        "outputId": "6d44f492-70fc-40d6-eb3f-4c9826be2b52"
      },
      "execution_count": null,
      "outputs": [
        {
          "output_type": "stream",
          "name": "stdout",
          "text": [
            "ANDUJAR             4\n",
            "ORION               4\n",
            "ROMERO              4\n",
            "VICTOR              4\n",
            "JEFFERSON           4\n",
            "JULIO CESAR         4\n",
            "TAFFAREL            2\n",
            "D. BARRETO          1\n",
            "SILVA               1\n",
            "CASTILLO            1\n",
            "MUSLERA             1\n",
            "BOBADILLA           1\n",
            "Joel BATS           1\n",
            "Jean Marie PFAFF    1\n",
            "RICARDO             1\n",
            "LEHMANN             1\n",
            "SHUST               1\n",
            "PYATOV              1\n",
            "SHOVKOVSKYI         1\n",
            "W J LEE             1\n",
            "Fabien BARTHEZ      1\n",
            "Carlos ROA          1\n",
            "Thomas RAVELLI      1\n",
            "BUFFON              1\n",
            "Name: Player Name, dtype: int64\n"
          ]
        }
      ]
    },
    {
      "cell_type": "markdown",
      "source": [
        "Vemos que hay un empate entre los arqueros mas ganadores por penales:"
      ],
      "metadata": {
        "id": "VXhNAxWc6e0v"
      }
    },
    {
      "cell_type": "code",
      "source": [
        "mas_ganadores = ranking_gk_pen[ranking_gk_pen.values == 4]\n",
        "print(\"RTA Ej 3\")\n",
        "print(\"Hay un empate entre los arqueros\")\n",
        "print(mas_ganadores)"
      ],
      "metadata": {
        "colab": {
          "base_uri": "https://localhost:8080/"
        },
        "id": "oC_9VDF86mfV",
        "outputId": "3b529a58-3254-469e-b753-8bb973fe7bf0"
      },
      "execution_count": null,
      "outputs": [
        {
          "output_type": "stream",
          "name": "stdout",
          "text": [
            "RTA Ej 3\n",
            "Hay un empate entre los arqueros\n",
            "ANDUJAR        4\n",
            "ORION          4\n",
            "ROMERO         4\n",
            "VICTOR         4\n",
            "JEFFERSON      4\n",
            "JULIO CESAR    4\n",
            "Name: Player Name, dtype: int64\n"
          ]
        }
      ]
    },
    {
      "cell_type": "markdown",
      "source": [
        "EJ 4 : Construir un histograma que muestra como están distribuidos los goles a lo largo de la duración de un partido. Es decir, armar un gráfico que divida\n",
        "los '90 minutos de un partido en bines de 4 minutos en el eje X, y que tenga\n",
        "en el eje Y la cantidad total de goles anotados en el bin correspondiente."
      ],
      "metadata": {
        "id": "v8W3zKaz6soH"
      }
    },
    {
      "cell_type": "markdown",
      "source": [
        "obtener_minutos : Esta funcion convierte las strings de los eventos en listas con los goles que me interesan (aquellos con G, P o W)."
      ],
      "metadata": {
        "id": "LxGfboQr6w4v"
      }
    },
    {
      "cell_type": "code",
      "source": [
        "def obtener_minutos(x):\n",
        "    buscando = [\"G\", \"P\", \"W\"]\n",
        "    no_buscando = [\"H\", \"M\"]\n",
        "    minutos_goles = []\n",
        "    if type(x) == str:\n",
        "        #hago split sobre la string para separarla en una lista segun sus\n",
        "        #espacios vacios\n",
        "        for item in x.split(\" \"):\n",
        "            #chequeo si la string spliteada tiene la letra deseada y no tiene la indeseada\n",
        "            if any(x in item for x in buscando) and not any(x in item for x in no_buscando):\n",
        "                #sliceo el string para quedarme con el numero y hago int()\n",
        "                minuto = int(item[1:-1])\n",
        "                #añado el minuto como entero a la lista de minutos de goles\n",
        "                minutos_goles.append(minuto)\n",
        "        return minutos_goles\n",
        "    else:\n",
        "        return x"
      ],
      "metadata": {
        "id": "DV82F6pI65Kk"
      },
      "execution_count": null,
      "outputs": []
    },
    {
      "cell_type": "markdown",
      "source": [
        "Creo el dataframe que contiene los eventos que me interesan, es decir, aquellos\n",
        "con las letras G, P o W. Para ello utilizo una regex expression que utiliza el OR (|). Si bien obtengo algunos eventos no deseados, por\n",
        "ejemplo los que tienen GH o PM, luego me encargo de ellos en la funcion de\n",
        "obtener minutos"
      ],
      "metadata": {
        "id": "oQpBDqOk67tN"
      }
    },
    {
      "cell_type": "code",
      "source": [
        "df_eventos = df1[df1[\"Event\"].str.contains(\"G|P|W\")==True].loc[:, \"Event\"]\n",
        "print(df_eventos)"
      ],
      "metadata": {
        "id": "CjlAhnXy7Apn",
        "colab": {
          "base_uri": "https://localhost:8080/"
        },
        "outputId": "3856f43a-5194-4839-cdb9-acb6362ed44f"
      },
      "execution_count": null,
      "outputs": [
        {
          "output_type": "stream",
          "name": "stdout",
          "text": [
            "2                  G40'\n",
            "3                  G70'\n",
            "6             G43' G87'\n",
            "14                 G19'\n",
            "35                 G45'\n",
            "              ...      \n",
            "37631    I58' G69' G79'\n",
            "37701         G17' O70'\n",
            "37705               P3'\n",
            "37713              G90'\n",
            "37778        I88' G113'\n",
            "Name: Event, Length: 2071, dtype: object\n"
          ]
        }
      ]
    },
    {
      "cell_type": "markdown",
      "source": [
        "Convierto las strings de minutos en listas con integers que contienen\n",
        "solo los minutos en que se realizaron los goles (G, P, W)"
      ],
      "metadata": {
        "id": "KAgXChxv7ChM"
      }
    },
    {
      "cell_type": "code",
      "source": [
        "df_minutos_goles = df_eventos.apply(lambda x : obtener_minutos(x))\n",
        "print(df_minutos_goles)"
      ],
      "metadata": {
        "colab": {
          "base_uri": "https://localhost:8080/"
        },
        "id": "v7PyNi297FWN",
        "outputId": "e467fd52-21e6-4206-e58b-25878fd1c5fa"
      },
      "execution_count": null,
      "outputs": [
        {
          "output_type": "stream",
          "name": "stdout",
          "text": [
            "2            [40]\n",
            "3            [70]\n",
            "6        [43, 87]\n",
            "14           [19]\n",
            "35           [45]\n",
            "           ...   \n",
            "37631    [69, 79]\n",
            "37701        [17]\n",
            "37705         [3]\n",
            "37713        [90]\n",
            "37778       [113]\n",
            "Name: Event, Length: 2071, dtype: object\n"
          ]
        }
      ]
    },
    {
      "cell_type": "markdown",
      "source": [
        "Convierto el dataframe con las listas de minutos en una lista simple\n",
        "para poder graficarlo"
      ],
      "metadata": {
        "id": "NdJGH9_e7HFP"
      }
    },
    {
      "cell_type": "code",
      "source": [
        "minutos_goles = [item for sublist in df_minutos_goles for item in sublist]"
      ],
      "metadata": {
        "id": "yt894JC17KVN"
      },
      "execution_count": null,
      "outputs": []
    },
    {
      "cell_type": "markdown",
      "source": [
        "Grafico el histograma"
      ],
      "metadata": {
        "id": "nEvZjCYi7RGU"
      }
    },
    {
      "cell_type": "code",
      "source": [
        "print(\"RTA Ej 4\")\n",
        "plt.hist(minutos_goles, bins = int(90/4), range=[0, 90], rwidth=0.8)\n",
        "plt.show()"
      ],
      "metadata": {
        "colab": {
          "base_uri": "https://localhost:8080/",
          "height": 282
        },
        "id": "8DdYFOWg7S9z",
        "outputId": "c038bedd-aade-4225-cbc8-39f25f451470"
      },
      "execution_count": null,
      "outputs": [
        {
          "output_type": "stream",
          "name": "stdout",
          "text": [
            "RTA Ej 4\n"
          ]
        },
        {
          "output_type": "display_data",
          "data": {
            "text/plain": [
              "<Figure size 432x288 with 1 Axes>"
            ],
            "image/png": "[encoded data removed]"
          },
          "metadata": {
            "needs_background": "light"
          }
        }
      ]
    },
    {
      "cell_type": "markdown",
      "source": [
        "EJ 5\n",
        "Hacerlo por separado para la fase de grupos y para la fase de eliminación\n",
        "(todos los partidos posteriores a la fase de grupos)."
      ],
      "metadata": {
        "id": "_Ahilm9B7bgL"
      }
    },
    {
      "cell_type": "markdown",
      "source": [
        "FASE DE GRUPOS: La palabra clave a buscar en la fase de grupos es Group. Me quedo con los MatchID de los partidos de fase de grupos"
      ],
      "metadata": {
        "id": "kiXJrRqv7h7m"
      }
    },
    {
      "cell_type": "code",
      "source": [
        "df_grupos = df[df[\"Stage\"].str.contains(\"Group\")==True].loc[:, \"MatchID\"]"
      ],
      "metadata": {
        "id": "_rWUwfGR7pbu"
      },
      "execution_count": null,
      "outputs": []
    },
    {
      "cell_type": "markdown",
      "source": [
        "Matcheo los eventos del dataframe de jugadores con estos matchID, pues\n",
        "asi obtendre un df de los eventos ocurridos en los partidos de\n",
        "fase de grupos"
      ],
      "metadata": {
        "id": "vMlxvgaK7sYk"
      }
    },
    {
      "cell_type": "code",
      "source": [
        "df_jug_grupos = pd.merge(df1.loc[:, [\"MatchID\", \"Event\"]], df_grupos)"
      ],
      "metadata": {
        "id": "m_QEYw077wVF"
      },
      "execution_count": null,
      "outputs": []
    },
    {
      "cell_type": "markdown",
      "source": [
        "dropeo los NaN"
      ],
      "metadata": {
        "id": "yvAbpoeR7x1G"
      }
    },
    {
      "cell_type": "code",
      "source": [
        "df_jug_grupos.dropna(inplace=True)\n",
        "print(df_jug_grupos)"
      ],
      "metadata": {
        "id": "4Nvf4g3h74hY",
        "colab": {
          "base_uri": "https://localhost:8080/"
        },
        "outputId": "cce64245-feb6-46a6-e845-59f6a8d9f51a"
      },
      "execution_count": null,
      "outputs": [
        {
          "output_type": "stream",
          "name": "stdout",
          "text": [
            "         MatchID      Event\n",
            "2           1096       G40'\n",
            "3           1096       G70'\n",
            "6           1096  G43' G87'\n",
            "14          1096       G19'\n",
            "35          1090       G45'\n",
            "...          ...        ...\n",
            "27574  300186506      IH46'\n",
            "27575  300186506  I77' Y87'\n",
            "27576  300186506       I67'\n",
            "27577  300186506       I90'\n",
            "27579  300186506       Y90'\n",
            "\n",
            "[6600 rows x 2 columns]\n"
          ]
        }
      ]
    },
    {
      "cell_type": "markdown",
      "source": [
        "Utilizo ahora la funcion obtener minutos para parsear los minutos de la columna Event. Las filas con eventos que no son los buscados (no son G, P, W) apareceran como listas vacias, cosa que no interfiere con calculos futuros."
      ],
      "metadata": {
        "id": "tNJe5IoI76qO"
      }
    },
    {
      "cell_type": "code",
      "source": [
        "df_min_gol_grup = df_jug_grupos[\"Event\"].apply(lambda x : obtener_minutos(x))\n",
        "print(df_min_gol_grup)"
      ],
      "metadata": {
        "colab": {
          "base_uri": "https://localhost:8080/"
        },
        "id": "OvkmabPr79bx",
        "outputId": "2f33f749-a13e-4a56-b019-ecd670547386"
      },
      "execution_count": null,
      "outputs": [
        {
          "output_type": "stream",
          "name": "stdout",
          "text": [
            "2            [40]\n",
            "3            [70]\n",
            "6        [43, 87]\n",
            "14           [19]\n",
            "35           [45]\n",
            "           ...   \n",
            "27574          []\n",
            "27575          []\n",
            "27576          []\n",
            "27577          []\n",
            "27579          []\n",
            "Name: Event, Length: 6600, dtype: object\n"
          ]
        }
      ]
    },
    {
      "cell_type": "markdown",
      "source": [
        "Vemos que hubo varios partidos en la fase de grupos en donde no hubo goles.\n",
        "convierto a la series de listas con los minutos en una lista comun para\n",
        "poder graficar el histograma"
      ],
      "metadata": {
        "id": "yD7_yHig8ApP"
      }
    },
    {
      "cell_type": "code",
      "source": [
        "minutos_goles_grup = [item for sublist in df_min_gol_grup for item in sublist]"
      ],
      "metadata": {
        "id": "R8Nq0Kh_8WtQ"
      },
      "execution_count": null,
      "outputs": []
    },
    {
      "cell_type": "markdown",
      "source": [
        "Ploteo"
      ],
      "metadata": {
        "id": "LoZrS-vq8Zy3"
      }
    },
    {
      "cell_type": "code",
      "source": [
        "print(\"RTA Ej 5:\")\n",
        "plt.hist(minutos_goles_grup, bins = int(90/4), range=[0, 90], rwidth=0.8)\n",
        "plt.show()"
      ],
      "metadata": {
        "colab": {
          "base_uri": "https://localhost:8080/",
          "height": 282
        },
        "id": "gF3fb-9Z8bTy",
        "outputId": "1f6a99e0-4223-40c4-e2d9-9bd9aa48231c"
      },
      "execution_count": null,
      "outputs": [
        {
          "output_type": "stream",
          "name": "stdout",
          "text": [
            "RTA Ej 5:\n"
          ]
        },
        {
          "output_type": "display_data",
          "data": {
            "text/plain": [
              "<Figure size 432x288 with 1 Axes>"
            ],
            "image/png": "[encoded data removed]"
          },
          "metadata": {
            "needs_background": "light"
          }
        }
      ]
    },
    {
      "cell_type": "markdown",
      "source": [
        "La tendencia de muchos goles al final del partido se sostiene"
      ],
      "metadata": {
        "id": "VZ9-orMc8kOh"
      }
    },
    {
      "cell_type": "markdown",
      "source": [
        "ELIMINATORIAS : Creo una lista con las palabras clave que hacen referencia a las eliminatorias"
      ],
      "metadata": {
        "id": "zRJzns-s8mth"
      }
    },
    {
      "cell_type": "code",
      "source": [
        "key_word_elimi = [\"Final\", \"final\", \"Round\", \"round\", \"Place\", \"place\"]"
      ],
      "metadata": {
        "id": "HWHbaTHj8yRJ"
      },
      "execution_count": null,
      "outputs": []
    },
    {
      "cell_type": "markdown",
      "source": [
        "Dropeo los NaN del dataframe original de partidos, creando uno nuevo"
      ],
      "metadata": {
        "id": "oVwdT-CJ80iR"
      }
    },
    {
      "cell_type": "code",
      "source": [
        "df2 = df.dropna()"
      ],
      "metadata": {
        "id": "P_HckW2U88-R"
      },
      "execution_count": null,
      "outputs": []
    },
    {
      "cell_type": "markdown",
      "source": [
        "Busco por las palabras clave que indican partido de eliminatoria, y me quedo con los matchID correspondientes a los partidos de eliminatorias"
      ],
      "metadata": {
        "id": "lvW7a5q79AAX"
      }
    },
    {
      "cell_type": "code",
      "source": [
        "df_eliminatorias = df2[df2[\"Stage\"].apply(lambda x : any(pal in x for pal in key_word_elimi) if type(x) == str else x)].loc[:, \"MatchID\"]"
      ],
      "metadata": {
        "id": "XWdFwAr39DmA"
      },
      "execution_count": null,
      "outputs": []
    },
    {
      "cell_type": "markdown",
      "source": [
        "Matcheo los eventos del dataframe de jugadores con estos matchID, pues asi obtendre un df de los eventos ocurridos en los partidos de eliminatorias"
      ],
      "metadata": {
        "id": "Eo3abj6y9HcI"
      }
    },
    {
      "cell_type": "code",
      "source": [
        "df_jug_elimi = pd.merge(df1.loc[:, [\"MatchID\", \"Event\"]], df_eliminatorias)\n",
        "print(df_jug_elimi)"
      ],
      "metadata": {
        "colab": {
          "base_uri": "https://localhost:8080/"
        },
        "id": "RKhRevkh9LIS",
        "outputId": "506a3f1e-1f9a-4b12-f41f-fa743c2a62be"
      },
      "execution_count": null,
      "outputs": [
        {
          "output_type": "stream",
          "name": "stdout",
          "text": [
            "         MatchID Event\n",
            "0           1088   NaN\n",
            "1           1088   NaN\n",
            "2           1088   NaN\n",
            "3           1088   NaN\n",
            "4           1088   NaN\n",
            "...          ...   ...\n",
            "11480  300186497  I72'\n",
            "11481  300186497   NaN\n",
            "11482  300186497   NaN\n",
            "11483  300186497   NaN\n",
            "11484  300186497   NaN\n",
            "\n",
            "[11485 rows x 2 columns]\n"
          ]
        }
      ]
    },
    {
      "cell_type": "markdown",
      "source": [
        "dropeo los NaN"
      ],
      "metadata": {
        "id": "lOPb93Mb9RLx"
      }
    },
    {
      "cell_type": "code",
      "source": [
        "df_jug_elimi.dropna(inplace=True)\n",
        "print(df_jug_elimi)"
      ],
      "metadata": {
        "id": "eQWR6kXw9SpH",
        "colab": {
          "base_uri": "https://localhost:8080/"
        },
        "outputId": "655a528f-82d0-437e-9a4e-077ea8300d0f"
      },
      "execution_count": null,
      "outputs": [
        {
          "output_type": "stream",
          "name": "stdout",
          "text": [
            "         MatchID        Event\n",
            "6           1088         G56'\n",
            "8           1088    G69' G87'\n",
            "10          1088         G20'\n",
            "12          1088    G80' G85'\n",
            "21          1088         G89'\n",
            "...          ...          ...\n",
            "11470  300186497        I111'\n",
            "11471  300186497  I105' G107'\n",
            "11472  300186497  I105' G107'\n",
            "11479  300186497         I72'\n",
            "11480  300186497         I72'\n",
            "\n",
            "[2905 rows x 2 columns]\n"
          ]
        }
      ]
    },
    {
      "cell_type": "markdown",
      "source": [
        "Utilizo ahora la funcion obtener minutos para parsear los minutos de la columna Event. Las filas con eventos que no son los buscados (no son G, P, W) apareceran como listas vacias, cosa que no interfiere con calculos futuros"
      ],
      "metadata": {
        "id": "Rrlcy9sY9UXb"
      }
    },
    {
      "cell_type": "code",
      "source": [
        "df_min_gol_elimi = df_jug_elimi[\"Event\"].apply(lambda x : obtener_minutos(x))\n",
        "print(df_min_gol_elimi)"
      ],
      "metadata": {
        "colab": {
          "base_uri": "https://localhost:8080/"
        },
        "id": "p5jFDTSR9XqW",
        "outputId": "1f77dd96-8d04-4568-e558-327d884349a8"
      },
      "execution_count": null,
      "outputs": [
        {
          "output_type": "stream",
          "name": "stdout",
          "text": [
            "6            [56]\n",
            "8        [69, 87]\n",
            "10           [20]\n",
            "12       [80, 85]\n",
            "21           [89]\n",
            "           ...   \n",
            "11470          []\n",
            "11471       [107]\n",
            "11472       [107]\n",
            "11479          []\n",
            "11480          []\n",
            "Name: Event, Length: 2905, dtype: object\n"
          ]
        }
      ]
    },
    {
      "cell_type": "markdown",
      "source": [
        "Convierto a la series de listas con los minutos en una lista comun para poder graficar el histograma"
      ],
      "metadata": {
        "id": "TEdUH5xL9kwN"
      }
    },
    {
      "cell_type": "code",
      "source": [
        "minutos_goles_elimi = [item for sublist in df_min_gol_elimi for item in sublist]"
      ],
      "metadata": {
        "id": "Sni4L6Ew9nkF"
      },
      "execution_count": null,
      "outputs": []
    },
    {
      "cell_type": "markdown",
      "source": [
        "Ploteo"
      ],
      "metadata": {
        "id": "xaNE12hS9o_v"
      }
    },
    {
      "cell_type": "code",
      "source": [
        "print(\"RTA Ej 5\")\n",
        "plt.hist(minutos_goles_grup, bins = int(90/4), range=[0, 90], rwidth=0.8)\n",
        "plt.show()"
      ],
      "metadata": {
        "colab": {
          "base_uri": "https://localhost:8080/",
          "height": 282
        },
        "id": "5zD4O55o9q-G",
        "outputId": "c0646f5c-9280-4fb3-e07c-e0939dd7ccd4"
      },
      "execution_count": null,
      "outputs": [
        {
          "output_type": "stream",
          "name": "stdout",
          "text": [
            "RTA Ej 5\n"
          ]
        },
        {
          "output_type": "display_data",
          "data": {
            "text/plain": [
              "<Figure size 432x288 with 1 Axes>"
            ],
            "image/png": "[encoded data removed]"
          },
          "metadata": {
            "needs_background": "light"
          }
        }
      ]
    },
    {
      "cell_type": "markdown",
      "source": [
        "La tendencia de muchos goles al final del partido se sostiene"
      ],
      "metadata": {
        "id": "gGzEIc7D9wbW"
      }
    },
    {
      "cell_type": "markdown",
      "source": [
        "EJ 6 : Para los partidos en que hubo al menos algun gol, obtener el tiempo hasta el obtener el tiempo que transcurrió hasta el primer gol. h Hacer un histograma de la distribución de estos valores."
      ],
      "metadata": {
        "id": "tczaJAQa91M_"
      }
    },
    {
      "cell_type": "markdown",
      "source": [
        "Voy a trabajar con el dataframe que tiene a los minutos en que ocurrieron los goles como listas en su columna (df_minutos_goles, ejercicio 4). Busco por filas que contengan una lista al menos de largo 1. Eso significa que en ese partido se anoto al menos un gol."
      ],
      "metadata": {
        "id": "Ginp_Gdy95k9"
      }
    },
    {
      "cell_type": "code",
      "source": [
        "df_min_alMenos1 = df_minutos_goles[df_minutos_goles.apply(lambda x : len(x)>0)]\n",
        "print(df_min_alMenos1)"
      ],
      "metadata": {
        "colab": {
          "base_uri": "https://localhost:8080/"
        },
        "id": "bxHW5RsO9-cw",
        "outputId": "5bc61980-d585-4765-fad2-406eae798447"
      },
      "execution_count": null,
      "outputs": [
        {
          "output_type": "stream",
          "name": "stdout",
          "text": [
            "2            [40]\n",
            "3            [70]\n",
            "6        [43, 87]\n",
            "14           [19]\n",
            "35           [45]\n",
            "           ...   \n",
            "37631    [69, 79]\n",
            "37701        [17]\n",
            "37705         [3]\n",
            "37713        [90]\n",
            "37778       [113]\n",
            "Name: Event, Length: 2064, dtype: object\n"
          ]
        }
      ]
    },
    {
      "cell_type": "markdown",
      "source": [
        "Ahora, me quedo con el primer elemento de la lista, correspondiente al minuto en que se anoto el primer gol"
      ],
      "metadata": {
        "id": "4M5mqUr4-Dlm"
      }
    },
    {
      "cell_type": "code",
      "source": [
        "df_min_gol1 = df_min_alMenos1.apply(lambda x : x[0])"
      ],
      "metadata": {
        "id": "cFmIpdQ9-GIr"
      },
      "execution_count": null,
      "outputs": []
    },
    {
      "cell_type": "markdown",
      "source": [
        "Ploteo"
      ],
      "metadata": {
        "id": "TeoG21WZ-HyD"
      }
    },
    {
      "cell_type": "code",
      "source": [
        "print(\"RTA Ej 6\")\n",
        "plt.hist(df_min_gol1, bins = int(90/4), range=[0, 90], rwidth=0.8)\n",
        "plt.show()"
      ],
      "metadata": {
        "colab": {
          "base_uri": "https://localhost:8080/",
          "height": 282
        },
        "id": "nyWR4CDN-IwJ",
        "outputId": "5ed7b4ac-4599-445f-d9df-c7124a8fd696"
      },
      "execution_count": null,
      "outputs": [
        {
          "output_type": "stream",
          "name": "stdout",
          "text": [
            "RTA Ej 6\n"
          ]
        },
        {
          "output_type": "display_data",
          "data": {
            "text/plain": [
              "<Figure size 432x288 with 1 Axes>"
            ],
            "image/png": "[encoded data removed]"
          },
          "metadata": {
            "needs_background": "light"
          }
        }
      ]
    },
    {
      "cell_type": "markdown",
      "source": [
        "EJ 7 : Para los partidos en los que hubo más de un gol, obtener los tiempos\n",
        "transcurridos entre goles. Hacer un histograma de la distribución de estos valores."
      ],
      "metadata": {
        "id": "wKyFdcdv-O6W"
      }
    },
    {
      "cell_type": "markdown",
      "source": [
        "Voy a trabajar con el dataframe que tiene a los minutos en que ocurrieron los goles como listas en su columna (df_minutos_goles, ejercicio 4). Busco por filas que contengan una lista al menos de largo 2. Eso significa que en ese partido se anotaron al menos dos goles."
      ],
      "metadata": {
        "id": "WApQoWaR-S4m"
      }
    },
    {
      "cell_type": "code",
      "source": [
        "df_min_alMenos2 = df_minutos_goles[df_minutos_goles.apply(lambda x : len(x)>1)]"
      ],
      "metadata": {
        "id": "jr00oBQx-Wlb"
      },
      "execution_count": null,
      "outputs": []
    },
    {
      "cell_type": "markdown",
      "source": [
        "deltas_t : Funcion que calcula la diferencia de tiempos entre goles, restando el elemento siguiente con el actual de la lista para obtener el delta t"
      ],
      "metadata": {
        "id": "vZ5Hi-5Q-Y3W"
      }
    },
    {
      "cell_type": "code",
      "source": [
        "def deltas_t(x):\n",
        "    if type(x) == list:\n",
        "        delta_t = [x[i+1] - x[i] for i in range(0, len(x) - 1)]\n",
        "        return delta_t\n",
        "    else:\n",
        "        return x"
      ],
      "metadata": {
        "id": "USobVo8T-dwb"
      },
      "execution_count": null,
      "outputs": []
    },
    {
      "cell_type": "markdown",
      "source": [
        "Ahora, creo un series que contiene el tiempo transcurrido entre la anotacion de un gol y el siguiente en su columna, usando la funcion deltas_t"
      ],
      "metadata": {
        "id": "fvhGdUVu-fqE"
      }
    },
    {
      "cell_type": "code",
      "source": [
        "df_delta_t_goles = df_min_alMenos2.apply(lambda x : deltas_t(x))\n",
        "print(df_delta_t_goles)"
      ],
      "metadata": {
        "colab": {
          "base_uri": "https://localhost:8080/"
        },
        "id": "LPBEXbuy-kQ4",
        "outputId": "fca22d3c-3e60-4255-d8fa-ca2df2775bf1"
      },
      "execution_count": null,
      "outputs": [
        {
          "output_type": "stream",
          "name": "stdout",
          "text": [
            "6           [44]\n",
            "198         [62]\n",
            "234          [7]\n",
            "264      [5, 35]\n",
            "384         [43]\n",
            "          ...   \n",
            "36607        [2]\n",
            "36619       [10]\n",
            "37108       [22]\n",
            "37619        [2]\n",
            "37631       [10]\n",
            "Name: Event, Length: 292, dtype: object\n"
          ]
        }
      ]
    },
    {
      "cell_type": "markdown",
      "source": [
        "Convierto la lista de listas en una lista simple, con tiempos que pueda plotear"
      ],
      "metadata": {
        "id": "eQRBmSpy-oWa"
      }
    },
    {
      "cell_type": "code",
      "source": [
        "delta_t_goles_ls = [item for sublist in df_delta_t_goles for item in sublist]"
      ],
      "metadata": {
        "id": "7LQmWEK7-slF"
      },
      "execution_count": null,
      "outputs": []
    },
    {
      "cell_type": "markdown",
      "source": [
        "Ploteo"
      ],
      "metadata": {
        "id": "S2QHXreS-uDy"
      }
    },
    {
      "cell_type": "code",
      "source": [
        "print(\"RTA Ej 7\")\n",
        "plt.hist(delta_t_goles_ls, bins = int(90/4), range=[0, 90], rwidth=0.8)\n",
        "plt.show()"
      ],
      "metadata": {
        "colab": {
          "base_uri": "https://localhost:8080/",
          "height": 282
        },
        "id": "2DJw8UHH-yOc",
        "outputId": "58daffd5-03a3-4b43-cd12-0de5393aacf8"
      },
      "execution_count": null,
      "outputs": [
        {
          "output_type": "stream",
          "name": "stdout",
          "text": [
            "RTA Ej 7\n"
          ]
        },
        {
          "output_type": "display_data",
          "data": {
            "text/plain": [
              "<Figure size 432x288 with 1 Axes>"
            ],
            "image/png": "[encoded data removed]"
          },
          "metadata": {
            "needs_background": "light"
          }
        }
      ]
    },
    {
      "cell_type": "markdown",
      "source": [
        "Se ve que si meten un gol es mas probable que metan otro a los pocos minutos"
      ],
      "metadata": {
        "id": "1dbtx9o9-0tl"
      }
    },
    {
      "cell_type": "markdown",
      "source": [
        "EJ 8 : ¿Se parecen estas distribuciones a algunas de las que vimos en clase?"
      ],
      "metadata": {
        "id": "g8_9Y1tg-3Fw"
      }
    },
    {
      "cell_type": "markdown",
      "source": [
        "La distribucion del ejercicio 7 se parece a una distribucion geometrica."
      ],
      "metadata": {
        "id": "53KqnVQk-5fR"
      }
    }
  ]
}